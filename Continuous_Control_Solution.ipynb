{
 "cells": [
  {
   "cell_type": "markdown",
   "metadata": {},
   "source": [
    "# Continuous Control - DDPG\n",
    "\n",
    "\n",
    "\n",
    "### 1. Start the Environment\n",
    "\n",
    "Install a few packages. This line will take a few minutes to run!."
   ]
  },
  {
   "cell_type": "code",
   "execution_count": 1,
   "metadata": {},
   "outputs": [
    {
     "name": "stdout",
     "output_type": "stream",
     "text": [
      "Requirement already satisfied: tqdm in /opt/conda/lib/python3.6/site-packages\n",
      "\u001b[33mYou are using pip version 9.0.1, however version 18.1 is available.\n",
      "You should consider upgrading via the 'pip install --upgrade pip' command.\u001b[0m\n"
     ]
    }
   ],
   "source": [
    "!pip -q install ../python\n",
    "!pip install tqdm\n"
   ]
  },
  {
   "cell_type": "code",
   "execution_count": 2,
   "metadata": {},
   "outputs": [],
   "source": [
    "from unityagents import UnityEnvironment\n",
    "import numpy as np\n",
    "import gym\n",
    "import random\n",
    "import torch\n",
    "import numpy as np\n",
    "from collections import deque\n",
    "import matplotlib.pyplot as plt\n",
    "%matplotlib inline\n",
    "from unityagents import UnityEnvironment\n",
    "import numpy as np\n",
    "\n",
    "from tqdm import tqdm"
   ]
  },
  {
   "cell_type": "code",
   "execution_count": 3,
   "metadata": {},
   "outputs": [],
   "source": [
    "import random\n",
    "import torch\n",
    "import numpy as np\n",
    "from collections import deque\n",
    "import matplotlib.pyplot as plt\n",
    "from unityagents import UnityEnvironment\n",
    "import numpy as np\n",
    "import time\n",
    "from itertools import count"
   ]
  },
  {
   "cell_type": "markdown",
   "metadata": {},
   "source": [
    "The environments corresponding to both versions of the environment are already saved in the Workspace and can be accessed at the file paths provided below.\n",
    "\n",
    "Please select one of the two options below for loading the environment."
   ]
  },
  {
   "cell_type": "code",
   "execution_count": 4,
   "metadata": {},
   "outputs": [
    {
     "name": "stderr",
     "output_type": "stream",
     "text": [
      "INFO:unityagents:\n",
      "'Academy' started successfully!\n",
      "Unity Academy name: Academy\n",
      "        Number of Brains: 1\n",
      "        Number of External Brains : 1\n",
      "        Lesson number : 0\n",
      "        Reset Parameters :\n",
      "\t\tgoal_speed -> 1.0\n",
      "\t\tgoal_size -> 5.0\n",
      "Unity brain name: ReacherBrain\n",
      "        Number of Visual Observations (per agent): 0\n",
      "        Vector Observation space type: continuous\n",
      "        Vector Observation space size (per agent): 33\n",
      "        Number of stacked Vector Observation: 1\n",
      "        Vector Action space type: continuous\n",
      "        Vector Action space size (per agent): 4\n",
      "        Vector Action descriptions: , , , \n"
     ]
    }
   ],
   "source": [
    "# select this option to load version 1 (with a single agent) of the environment\n",
    "#env = UnityEnvironment(file_name='/data/Reacher_One_Linux_NoVis/Reacher_One_Linux_NoVis.x86_64')\n",
    "# select this option to load version 2 (with 20 agents) of the environment\n",
    "env = UnityEnvironment(file_name='/data/Reacher_Linux_NoVis/Reacher.x86_64')"
   ]
  },
  {
   "cell_type": "code",
   "execution_count": 5,
   "metadata": {},
   "outputs": [],
   "source": [
    "# get the default brain\n",
    "brain_name = env.brain_names[0]\n",
    "brain = env.brains[brain_name]"
   ]
  },
  {
   "cell_type": "markdown",
   "metadata": {},
   "source": [
    "### 2. Examining the State and Action Spaces\n",
    "\n",
    "\n",
    "\n",
    "Run the code cell below to print some information about the environment."
   ]
  },
  {
   "cell_type": "code",
   "execution_count": 6,
   "metadata": {},
   "outputs": [
    {
     "name": "stdout",
     "output_type": "stream",
     "text": [
      "Number of agents: 20\n",
      "Size of each action: 4\n",
      "There are 20 agents. Each observes a state with length: 33\n",
      "The state for the first agent looks like: [  0.00000000e+00  -4.00000000e+00   0.00000000e+00   1.00000000e+00\n",
      "  -0.00000000e+00  -0.00000000e+00  -4.37113883e-08   0.00000000e+00\n",
      "   0.00000000e+00   0.00000000e+00   0.00000000e+00   0.00000000e+00\n",
      "   0.00000000e+00   0.00000000e+00  -1.00000000e+01   0.00000000e+00\n",
      "   1.00000000e+00  -0.00000000e+00  -0.00000000e+00  -4.37113883e-08\n",
      "   0.00000000e+00   0.00000000e+00   0.00000000e+00   0.00000000e+00\n",
      "   0.00000000e+00   0.00000000e+00   5.75471878e+00  -1.00000000e+00\n",
      "   5.55726624e+00   0.00000000e+00   1.00000000e+00   0.00000000e+00\n",
      "  -1.68164849e-01]\n"
     ]
    }
   ],
   "source": [
    "# reset the environment\n",
    "env_info = env.reset(train_mode=True)[brain_name]\n",
    "\n",
    "# number of agents\n",
    "num_agents = len(env_info.agents)\n",
    "print('Number of agents:', num_agents)\n",
    "\n",
    "# size of each action\n",
    "action_size = brain.vector_action_space_size\n",
    "print('Size of each action:', action_size)\n",
    "\n",
    "# examine the state space \n",
    "states = env_info.vector_observations\n",
    "state_size = states.shape[1]\n",
    "print('There are {} agents. Each observes a state with length: {}'.format(states.shape[0], state_size))\n",
    "print('The state for the first agent looks like:', states[0])"
   ]
  },
  {
   "cell_type": "markdown",
   "metadata": {},
   "source": [
    "### 4. DDPG\n",
    "\n"
   ]
  },
  {
   "cell_type": "code",
   "execution_count": 7,
   "metadata": {},
   "outputs": [],
   "source": [
    "from ddpg_agent import Agent\n",
    "agent = Agent(state_size=state_size, action_size=action_size,num_agents=num_agents ,random_seed=200)"
   ]
  },
  {
   "cell_type": "code",
   "execution_count": 8,
   "metadata": {},
   "outputs": [
    {
     "name": "stdout",
     "output_type": "stream",
     "text": [
      "Episode 1, Average last 100 scores: 0.44, Standard Deviation of last 100 scores: 0.31\n",
      "Episode 2, Average last 100 scores: 0.49, Standard Deviation of last 100 scores: 0.29\n",
      "Episode 3, Average last 100 scores: 0.55, Standard Deviation of last 100 scores: 0.36\n",
      "Episode 4, Average last 100 scores: 0.56, Standard Deviation of last 100 scores: 0.39\n",
      "Episode 5, Average last 100 scores: 0.62, Standard Deviation of last 100 scores: 0.45\n",
      "Episode 6, Average last 100 scores: 0.65, Standard Deviation of last 100 scores: 0.33\n",
      "Episode 7, Average last 100 scores: 0.73, Standard Deviation of last 100 scores: 0.49\n",
      "Episode 8, Average last 100 scores: 0.82, Standard Deviation of last 100 scores: 0.66\n",
      "Episode 9, Average last 100 scores: 0.95, Standard Deviation of last 100 scores: 0.95\n",
      "Episode 10, Average last 100 scores: 1.07, Standard Deviation of last 100 scores: 0.99\n",
      "Episode 11, Average last 100 scores: 1.18, Standard Deviation of last 100 scores: 1.06\n",
      "Episode 12, Average last 100 scores: 1.27, Standard Deviation of last 100 scores: 1.04\n",
      "Episode 13, Average last 100 scores: 1.38, Standard Deviation of last 100 scores: 1.10\n",
      "Episode 14, Average last 100 scores: 1.51, Standard Deviation of last 100 scores: 1.37\n",
      "Episode 15, Average last 100 scores: 1.63, Standard Deviation of last 100 scores: 1.69\n",
      "Episode 16, Average last 100 scores: 1.81, Standard Deviation of last 100 scores: 2.06\n",
      "Episode 17, Average last 100 scores: 2.09, Standard Deviation of last 100 scores: 2.26\n",
      "Episode 18, Average last 100 scores: 2.47, Standard Deviation of last 100 scores: 3.50\n",
      "Episode 19, Average last 100 scores: 3.01, Standard Deviation of last 100 scores: 5.11\n",
      "Episode 20, Average last 100 scores: 3.44, Standard Deviation of last 100 scores: 4.83\n",
      "Episode 21, Average last 100 scores: 4.14, Standard Deviation of last 100 scores: 5.58\n",
      "Episode 22, Average last 100 scores: 4.83, Standard Deviation of last 100 scores: 8.11\n",
      "Episode 23, Average last 100 scores: 5.76, Standard Deviation of last 100 scores: 8.12\n",
      "Episode 24, Average last 100 scores: 6.64, Standard Deviation of last 100 scores: 7.88\n",
      "Episode 25, Average last 100 scores: 7.49, Standard Deviation of last 100 scores: 8.87\n",
      "Episode 26, Average last 100 scores: 8.42, Standard Deviation of last 100 scores: 6.18\n",
      "Episode 27, Average last 100 scores: 9.34, Standard Deviation of last 100 scores: 5.25\n",
      "Episode 28, Average last 100 scores: 10.17, Standard Deviation of last 100 scores: 6.73\n",
      "Episode 29, Average last 100 scores: 11.07, Standard Deviation of last 100 scores: 2.35\n",
      "Episode 30, Average last 100 scores: 11.78, Standard Deviation of last 100 scores: 5.53\n",
      "Episode 31, Average last 100 scores: 12.52, Standard Deviation of last 100 scores: 5.25\n",
      "Episode 32, Average last 100 scores: 13.25, Standard Deviation of last 100 scores: 3.52\n",
      "Episode 33, Average last 100 scores: 13.99, Standard Deviation of last 100 scores: 2.45\n",
      "Episode 34, Average last 100 scores: 14.65, Standard Deviation of last 100 scores: 2.44\n",
      "Episode 35, Average last 100 scores: 15.29, Standard Deviation of last 100 scores: 2.05\n",
      "Episode 36, Average last 100 scores: 15.87, Standard Deviation of last 100 scores: 3.21\n",
      "Episode 37, Average last 100 scores: 16.48, Standard Deviation of last 100 scores: 1.47\n",
      "Episode 38, Average last 100 scores: 17.05, Standard Deviation of last 100 scores: 1.30\n",
      "Episode 39, Average last 100 scores: 17.59, Standard Deviation of last 100 scores: 1.37\n",
      "Episode 40, Average last 100 scores: 18.11, Standard Deviation of last 100 scores: 0.96\n",
      "Episode 41, Average last 100 scores: 18.60, Standard Deviation of last 100 scores: 0.99\n",
      "Episode 42, Average last 100 scores: 19.06, Standard Deviation of last 100 scores: 1.32\n",
      "Episode 43, Average last 100 scores: 19.52, Standard Deviation of last 100 scores: 0.81\n",
      "Episode 44, Average last 100 scores: 19.96, Standard Deviation of last 100 scores: 0.61\n",
      "Episode 45, Average last 100 scores: 20.38, Standard Deviation of last 100 scores: 0.55\n",
      "Episode 46, Average last 100 scores: 20.77, Standard Deviation of last 100 scores: 0.69\n",
      "Episode 47, Average last 100 scores: 21.14, Standard Deviation of last 100 scores: 1.04\n",
      "Episode 48, Average last 100 scores: 21.49, Standard Deviation of last 100 scores: 1.56\n",
      "Episode 49, Average last 100 scores: 21.82, Standard Deviation of last 100 scores: 1.36\n",
      "Episode 50, Average last 100 scores: 22.17, Standard Deviation of last 100 scores: 0.44\n",
      "Episode 51, Average last 100 scores: 22.49, Standard Deviation of last 100 scores: 0.83\n",
      "Episode 52, Average last 100 scores: 22.81, Standard Deviation of last 100 scores: 0.74\n",
      "Episode 53, Average last 100 scores: 23.11, Standard Deviation of last 100 scores: 0.76\n",
      "Episode 54, Average last 100 scores: 23.40, Standard Deviation of last 100 scores: 0.54\n",
      "Episode 55, Average last 100 scores: 23.68, Standard Deviation of last 100 scores: 0.82\n",
      "Episode 56, Average last 100 scores: 23.94, Standard Deviation of last 100 scores: 1.11\n",
      "Episode 57, Average last 100 scores: 24.20, Standard Deviation of last 100 scores: 0.64\n",
      "Episode 58, Average last 100 scores: 24.45, Standard Deviation of last 100 scores: 0.70\n",
      "Episode 59, Average last 100 scores: 24.68, Standard Deviation of last 100 scores: 0.94\n",
      "Episode 60, Average last 100 scores: 24.91, Standard Deviation of last 100 scores: 0.57\n",
      "Episode 61, Average last 100 scores: 25.13, Standard Deviation of last 100 scores: 1.27\n",
      "Episode 62, Average last 100 scores: 25.34, Standard Deviation of last 100 scores: 1.00\n",
      "Episode 63, Average last 100 scores: 25.54, Standard Deviation of last 100 scores: 1.19\n",
      "Episode 64, Average last 100 scores: 25.73, Standard Deviation of last 100 scores: 1.53\n",
      "Episode 65, Average last 100 scores: 25.91, Standard Deviation of last 100 scores: 1.29\n",
      "Episode 66, Average last 100 scores: 26.09, Standard Deviation of last 100 scores: 1.95\n",
      "Episode 67, Average last 100 scores: 26.27, Standard Deviation of last 100 scores: 2.17\n",
      "Episode 68, Average last 100 scores: 26.41, Standard Deviation of last 100 scores: 2.34\n",
      "Episode 69, Average last 100 scores: 26.57, Standard Deviation of last 100 scores: 1.72\n",
      "Episode 70, Average last 100 scores: 26.72, Standard Deviation of last 100 scores: 1.78\n",
      "Episode 71, Average last 100 scores: 26.85, Standard Deviation of last 100 scores: 2.11\n",
      "Episode 72, Average last 100 scores: 27.00, Standard Deviation of last 100 scores: 1.85\n",
      "Episode 73, Average last 100 scores: 27.14, Standard Deviation of last 100 scores: 2.07\n",
      "Episode 74, Average last 100 scores: 27.28, Standard Deviation of last 100 scores: 1.12\n",
      "Episode 75, Average last 100 scores: 27.42, Standard Deviation of last 100 scores: 1.40\n",
      "Episode 76, Average last 100 scores: 27.54, Standard Deviation of last 100 scores: 1.21\n",
      "Episode 77, Average last 100 scores: 27.63, Standard Deviation of last 100 scores: 7.17\n",
      "Episode 78, Average last 100 scores: 27.75, Standard Deviation of last 100 scores: 1.51\n",
      "Episode 79, Average last 100 scores: 27.86, Standard Deviation of last 100 scores: 0.97\n",
      "Episode 80, Average last 100 scores: 27.95, Standard Deviation of last 100 scores: 2.06\n",
      "Episode 81, Average last 100 scores: 28.05, Standard Deviation of last 100 scores: 1.89\n",
      "Episode 82, Average last 100 scores: 28.14, Standard Deviation of last 100 scores: 1.46\n",
      "Episode 83, Average last 100 scores: 28.23, Standard Deviation of last 100 scores: 1.17\n",
      "Episode 84, Average last 100 scores: 28.30, Standard Deviation of last 100 scores: 1.88\n",
      "Episode 85, Average last 100 scores: 28.37, Standard Deviation of last 100 scores: 2.02\n",
      "Episode 86, Average last 100 scores: 28.45, Standard Deviation of last 100 scores: 2.44\n",
      "Episode 87, Average last 100 scores: 28.50, Standard Deviation of last 100 scores: 2.72\n",
      "Episode 88, Average last 100 scores: 28.56, Standard Deviation of last 100 scores: 2.00\n",
      "Episode 89, Average last 100 scores: 28.62, Standard Deviation of last 100 scores: 2.97\n",
      "Episode 90, Average last 100 scores: 28.70, Standard Deviation of last 100 scores: 1.92\n",
      "Episode 91, Average last 100 scores: 28.78, Standard Deviation of last 100 scores: 2.46\n",
      "Episode 92, Average last 100 scores: 28.86, Standard Deviation of last 100 scores: 1.93\n",
      "Episode 93, Average last 100 scores: 28.94, Standard Deviation of last 100 scores: 2.10\n",
      "Episode 94, Average last 100 scores: 29.02, Standard Deviation of last 100 scores: 1.86\n"
     ]
    },
    {
     "name": "stdout",
     "output_type": "stream",
     "text": [
      "Episode 95, Average last 100 scores: 29.11, Standard Deviation of last 100 scores: 1.34\n",
      "Episode 96, Average last 100 scores: 29.16, Standard Deviation of last 100 scores: 3.03\n",
      "Episode 97, Average last 100 scores: 29.21, Standard Deviation of last 100 scores: 3.14\n",
      "Episode 98, Average last 100 scores: 29.28, Standard Deviation of last 100 scores: 2.20\n",
      "Episode 99, Average last 100 scores: 29.33, Standard Deviation of last 100 scores: 1.98\n",
      "Episode 100, Average last 100 scores: 29.38, Standard Deviation of last 100 scores: 2.24\n",
      "Episode 101, Average last 100 scores: 29.71, Standard Deviation of last 100 scores: 3.32\n",
      "Episode 102, Average last 100 scores: 30.07, Standard Deviation of last 100 scores: 2.25\n",
      "Episode 103, Average last 100 scores: 30.42, Standard Deviation of last 100 scores: 2.32\n",
      "Episode 104, Average last 100 scores: 30.77, Standard Deviation of last 100 scores: 1.68\n",
      "Episode 105, Average last 100 scores: 31.11, Standard Deviation of last 100 scores: 2.49\n",
      "Episode 106, Average last 100 scores: 31.45, Standard Deviation of last 100 scores: 1.79\n",
      "Episode 107, Average last 100 scores: 31.79, Standard Deviation of last 100 scores: 1.86\n",
      "Episode 108, Average last 100 scores: 32.11, Standard Deviation of last 100 scores: 2.75\n",
      "Episode 109, Average last 100 scores: 32.44, Standard Deviation of last 100 scores: 2.28\n",
      "Episode 110, Average last 100 scores: 32.77, Standard Deviation of last 100 scores: 1.98\n"
     ]
    },
    {
     "data": {
      "image/png": "[encoded data removed]",
      "text/plain": [
       "<matplotlib.figure.Figure at 0x7f00717c2518>"
      ]
     },
     "metadata": {
      "needs_background": "light"
     },
     "output_type": "display_data"
    }
   ],
   "source": [
    "def ddpg(n_episodes=110, max_t=1500, print_every=100):\n",
    "    scores_deque = deque(maxlen=print_every)\n",
    "    MeanScores = []                                        # average of the score of the 20 agents for each episode\n",
    "        \n",
    "    for i_episode in range(1, n_episodes+1):\n",
    "        env_info = env.reset(train_mode=True)[brain_name]      # reset the environment    \n",
    "        states = env_info.vector_observations                  # get the current state (for each agent)\n",
    "        scores = np.zeros(num_agents)                          # initialize the score (for each agent)\n",
    "        agent.reset()\n",
    "        \n",
    "        for t in range(max_t):\n",
    "            actions = agent.act(states)\n",
    "            env_info = env.step(actions)[brain_name]           # send all actions to tne environment\n",
    "            next_states = env_info.vector_observations         # get next state (for each agent)\n",
    "            rewards = env_info.rewards                         # get reward (for each agent)\n",
    "            dones = env_info.local_done                        # see if episode finished\n",
    "            agent.step(states, actions, rewards, next_states, dones, t)\n",
    "            states = next_states                               # roll over states to next time step\n",
    "            scores += rewards                                  # update the score (for each agent)            \n",
    "            if np.any(dones):                                  # exit loop if episode finished\n",
    "                break\n",
    "        \n",
    "        score = np.mean(scores)\n",
    "        scores_deque.append(score)\n",
    "        MeanScores.append(score)      \n",
    "        \n",
    "        print('\\rEpisode {}, Average last 100 scores: {:.2f}, Standard Deviation of last 100 scores: {:.2f}'\\\n",
    "                .format(i_episode, np.mean(scores_deque), np.std(scores), end=\"\\n\"))  \n",
    "        torch.save(agent.actor_local.state_dict(), 'checkpoint_actor.pth')\n",
    "        torch.save(agent.critic_local.state_dict(), 'checkpoint_critic.pth')            \n",
    "        \n",
    "            \n",
    "    return MeanScores,scores_deque\n",
    "\n",
    "\n",
    "[scores,scores_deque] = ddpg()\n",
    "\n",
    "fig = plt.figure()\n",
    "ax = fig.add_subplot(111)\n",
    "plt.plot(np.arange(1, len(scores)+1), scores)\n",
    "plt.ylabel('Score')\n",
    "plt.xlabel('Episode #')\n",
    "plt.show()"
   ]
  },
  {
   "cell_type": "code",
   "execution_count": 14,
   "metadata": {},
   "outputs": [
    {
     "name": "stdout",
     "output_type": "stream",
     "text": [
      "Requirement already satisfied: pyvirtualdisplay in /opt/conda/lib/python3.6/site-packages\n",
      "Requirement already satisfied: EasyProcess in /opt/conda/lib/python3.6/site-packages (from pyvirtualdisplay)\n",
      "\u001b[33mYou are using pip version 9.0.1, however version 18.1 is available.\n",
      "You should consider upgrading via the 'pip install --upgrade pip' command.\u001b[0m\n"
     ]
    },
    {
     "data": {
      "text/plain": [
       "<matplotlib.figure.Figure at 0x7efff5acee80>"
      ]
     },
     "metadata": {},
     "output_type": "display_data"
    },
    {
     "data": {
      "image/png": "[encoded data removed]",
      "text/plain": [
       "<matplotlib.figure.Figure at 0x7efffc8d62e8>"
      ]
     },
     "metadata": {
      "needs_background": "light"
     },
     "output_type": "display_data"
    },
    {
     "name": "stdout",
     "output_type": "stream",
     "text": [
      "32.7656892676\n"
     ]
    }
   ],
   "source": [
    "import os\n",
    "import random\n",
    "import torch\n",
    "import numpy as np\n",
    "from collections import deque\n",
    "import matplotlib.pyplot as plt\n",
    "%matplotlib inline\n",
    "\n",
    "!python -m pip install pyvirtualdisplay\n",
    "from pyvirtualdisplay import Display\n",
    "display = Display(visible=0, size=(1400, 900))\n",
    "display.start()\n",
    "\n",
    "is_ipython = 'inline' in plt.get_backend()\n",
    "if is_ipython:\n",
    "    from IPython import display\n",
    "import pandas as pd\n",
    "# plot the scores\n",
    "\n",
    "\n",
    "\n",
    "\n",
    "fig = plt.figure()\n",
    "DDPG=pd.DataFrame()\n",
    "DDPG['Episode']=np.arange(len(scores))\n",
    "DDPG['Score']=scores\n",
    "DDPG['Cut_off_Score']=30\n",
    "DDPG.plot(x=\"Episode\", y=[\"Score\", \"Cut_off_Score\"])\n",
    "\n",
    "plt.title('DDPG')\n",
    "plt.show()\n",
    "print (np.mean(scores_deque))"
   ]
  },
  {
   "cell_type": "code",
   "execution_count": null,
   "metadata": {},
   "outputs": [],
   "source": []
  }
 ],
 "metadata": {
  "kernelspec": {
   "display_name": "Python 3",
   "language": "python",
   "name": "python3"
  },
  "language_info": {
   "codemirror_mode": {
    "name": "ipython",
    "version": 3
   },
   "file_extension": ".py",
   "mimetype": "text/x-python",
   "name": "python",
   "nbconvert_exporter": "python",
   "pygments_lexer": "ipython3",
   "version": "3.6.3"
  }
 },
 "nbformat": 4,
 "nbformat_minor": 2
}
